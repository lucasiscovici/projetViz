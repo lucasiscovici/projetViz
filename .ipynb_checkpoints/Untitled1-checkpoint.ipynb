{
 "cells": [
  {
   "cell_type": "markdown",
   "metadata": {},
   "source": [
    "####  /!\\ A VOIR SI ON LAISSE <br>\n",
    "#### DEBUT"
   ]
  },
  {
   "cell_type": "markdown",
   "metadata": {},
   "source": [
    "On va Etudier cette collinearité plus precisement et drop les variable collineaire"
   ]
  },
  {
   "cell_type": "code",
   "execution_count": 661,
   "metadata": {
    "scrolled": true
   },
   "outputs": [],
   "source": [
    "findColineary=function(data,correlation_threshold=0.8){\n",
    "    upperC=cor(data)\n",
    "    upperC[!upper.tri(upperC,diag = F)] = 0\n",
    "    # Select the features with correlations above the threshold\n",
    "    # Need to use the absolute value\n",
    "    to_drop=c()\n",
    "    for (column in colnames(data)){\n",
    "        if (any(abs(upperC[,column]) > correlation_threshold)){\n",
    "            to_drop=c(to_drop,column)\n",
    "        }\n",
    "    }\n",
    "    # Dataframe to hold correlated pairs\n",
    "    record_collinear = data.frame()\n",
    "    #colnames(record_collinear)=c('drop_feature', 'corr_feature', 'corr_value')\n",
    "\n",
    "    # Iterate through the columns to drop to record pairs of correlated features\n",
    "    for (column in to_drop ){\n",
    "\n",
    "        # Find the correlated features\n",
    "        corr_features = rownames(upperC)[abs(upperC[,column]) > correlation_threshold]\n",
    "\n",
    "        # Find the correlated values\n",
    "        corr_values = upperC[,column][abs(upperC[,column]) > correlation_threshold]\n",
    "        drop_features = rep(column, length(corr_features))\n",
    "\n",
    "        # Record the information (need a temp df for now)\n",
    "        temp_df = data.frame(drop_feature=drop_features,\n",
    "                                         corr_feature= corr_features,\n",
    "                                         corr_value= corr_values)\n",
    "\n",
    "        # Add to dataframe\n",
    "        record_collinear = rbind(record_collinear,temp_df)\n",
    "    }\n",
    "    ops=list(collinear=c())\n",
    "    record_collinear = record_collinear\n",
    "    ops$collinear = to_drop\n",
    "    print(paste(length(to_drop),'features with a correlation magnitude greater than',correlation_threshold))\n",
    "    return(list(record=record_collinear,col=to_drop));\n",
    "}"
   ]
  },
  {
   "cell_type": "code",
   "execution_count": 671,
   "metadata": {},
   "outputs": [
    {
     "name": "stdout",
     "output_type": "stream",
     "text": [
      "[1] \"536 features with a correlation magnitude greater than 0.8\"\n"
     ]
    }
   ],
   "source": [
    "col=findColineary(data_raw)"
   ]
  },
  {
   "cell_type": "code",
   "execution_count": 676,
   "metadata": {},
   "outputs": [],
   "source": [
    "dataWithoutCol=data_raw[,!(colnames(data_raw) %in% colnames(data_raw)[findCorrelation(cor(data_raw),0.8)] )]"
   ]
  },
  {
   "cell_type": "code",
   "execution_count": 677,
   "metadata": {},
   "outputs": [
    {
     "name": "stdout",
     "output_type": "stream",
     "text": [
      "[1] \"0 features with a correlation magnitude greater than 0.8\"\n"
     ]
    }
   ],
   "source": [
    "col=findColineary(dataWithoutCol)"
   ]
  },
  {
   "cell_type": "code",
   "execution_count": 691,
   "metadata": {
    "scrolled": true
   },
   "outputs": [
    {
     "name": "stderr",
     "output_type": "stream",
     "text": [
      "Warning message in lda.default(x, grouping, ...):\n",
      "“variables are collinear”"
     ]
    }
   ],
   "source": [
    "dis2 <- lda(dataWithoutCol, data_labels)"
   ]
  },
  {
   "cell_type": "code",
   "execution_count": null,
   "metadata": {},
   "outputs": [],
   "source": []
  }
 ],
 "metadata": {
  "kernelspec": {
   "display_name": "R",
   "language": "R",
   "name": "ir"
  },
  "language_info": {
   "codemirror_mode": "r",
   "file_extension": ".r",
   "mimetype": "text/x-r-source",
   "name": "R",
   "pygments_lexer": "r",
   "version": "3.5.1"
  }
 },
 "nbformat": 4,
 "nbformat_minor": 2
}
